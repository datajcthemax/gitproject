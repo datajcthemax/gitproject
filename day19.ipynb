{
  "nbformat": 4,
  "nbformat_minor": 0,
  "metadata": {
    "colab": {
      "provenance": [],
      "mount_file_id": "1hijWVX7EJbBNyE39iB-1sh6MS-zlFue5",
      "authorship_tag": "ABX9TyNE0pXG81crf/kq+3na6+jm",
      "include_colab_link": true
    },
    "kernelspec": {
      "name": "python3",
      "display_name": "Python 3"
    },
    "language_info": {
      "name": "python"
    }
  },
  "cells": [
    {
      "cell_type": "markdown",
      "metadata": {
        "id": "view-in-github",
        "colab_type": "text"
      },
      "source": [
        "<a href=\"https://colab.research.google.com/github/datajcthemax/gitproject/blob/main/day19.ipynb\" target=\"_parent\"><img src=\"https://colab.research.google.com/assets/colab-badge.svg\" alt=\"Open In Colab\"/></a>"
      ]
    },
    {
      "cell_type": "markdown",
      "source": [
        "# 19번째 이야기 - KNN과 나이브 베이즈\n",
        "- 지도학습 / 비지도학습\n",
        "- KNN과 나이브 베이즈\n",
        "- 깃 ml 팀플"
      ],
      "metadata": {
        "id": "FKmNurLr4y7o"
      }
    },
    {
      "cell_type": "markdown",
      "source": [
        "## 전처리"
      ],
      "metadata": {
        "id": "YSP7DM1qPyDV"
      }
    },
    {
      "cell_type": "code",
      "source": [
        "import pandas as pd\n",
        "\n",
        "PATH = '/content/drive/MyDrive/datas/따릉이/train.csv'\n",
        "data = pd.read_csv(PATH)\n",
        "\n",
        "test_PATH = '/content/drive/MyDrive/datas/따릉이/test.csv'\n",
        "test_data = pd.read_csv(test_PATH)"
      ],
      "metadata": {
        "id": "EpZive5sQewF"
      },
      "execution_count": 10,
      "outputs": []
    },
    {
      "cell_type": "code",
      "source": [
        "data.dropna(inplace=True)\n",
        "test_data.dropna(inplace=True)"
      ],
      "metadata": {
        "id": "w6OZnLh4QgJG"
      },
      "execution_count": 11,
      "outputs": []
    },
    {
      "cell_type": "code",
      "source": [
        "from sklearn.preprocessing import StandardScaler\n",
        "\n",
        "stscaler = StandardScaler()"
      ],
      "metadata": {
        "id": "3GmUxvtLQjWs"
      },
      "execution_count": 12,
      "outputs": []
    },
    {
      "cell_type": "code",
      "source": [
        "y= data.pop('count')\n",
        "X= data"
      ],
      "metadata": {
        "id": "vzM7UFKnQveg"
      },
      "execution_count": 13,
      "outputs": []
    },
    {
      "cell_type": "code",
      "source": [
        "X = stscaler.fit_transform(X)"
      ],
      "metadata": {
        "id": "OSPCwecEQxzn"
      },
      "execution_count": 14,
      "outputs": []
    },
    {
      "cell_type": "code",
      "source": [
        "test_data = stscaler.transform(test_data)"
      ],
      "metadata": {
        "id": "kvYHtid4RVS4"
      },
      "execution_count": 15,
      "outputs": []
    },
    {
      "cell_type": "code",
      "source": [
        "from sklearn.model_selection import train_test_split\n",
        "X_train, X_test, y_train, y_test = train_test_split(X, y, test_size=0.2, random_state=100)"
      ],
      "metadata": {
        "id": "xeBa1_GORXWT"
      },
      "execution_count": 17,
      "outputs": []
    },
    {
      "cell_type": "markdown",
      "source": [
        "# KNN\n",
        "- 회귀 : Regressor\n",
        "- 분류 :Classifier"
      ],
      "metadata": {
        "id": "kUfLk-VTPEcW"
      }
    },
    {
      "cell_type": "code",
      "source": [
        "from sklearn.neighbors import KNeighborsRegressor # 회귀\n",
        "from sklearn.neighbors import KNeighborsClassifier # 분류"
      ],
      "metadata": {
        "id": "fNzgaFdNSaX-"
      },
      "execution_count": 18,
      "outputs": []
    },
    {
      "cell_type": "code",
      "source": [
        "model = KNeighborsRegressor(n_neighbors=5)\n",
        "# 이후는 어제 내용 참고"
      ],
      "metadata": {
        "id": "YQfvdG0uSbyk"
      },
      "execution_count": 19,
      "outputs": []
    },
    {
      "cell_type": "code",
      "source": [
        "model.fit(X_train, y_train)"
      ],
      "metadata": {
        "colab": {
          "base_uri": "https://localhost:8080/",
          "height": 75
        },
        "id": "qIc_sopgSd1E",
        "outputId": "2eac608a-6741-41e3-9884-4d4ddb0bbf2b"
      },
      "execution_count": 20,
      "outputs": [
        {
          "output_type": "execute_result",
          "data": {
            "text/plain": [
              "KNeighborsRegressor()"
            ],
            "text/html": [
              "<style>#sk-container-id-1 {color: black;background-color: white;}#sk-container-id-1 pre{padding: 0;}#sk-container-id-1 div.sk-toggleable {background-color: white;}#sk-container-id-1 label.sk-toggleable__label {cursor: pointer;display: block;width: 100%;margin-bottom: 0;padding: 0.3em;box-sizing: border-box;text-align: center;}#sk-container-id-1 label.sk-toggleable__label-arrow:before {content: \"▸\";float: left;margin-right: 0.25em;color: #696969;}#sk-container-id-1 label.sk-toggleable__label-arrow:hover:before {color: black;}#sk-container-id-1 div.sk-estimator:hover label.sk-toggleable__label-arrow:before {color: black;}#sk-container-id-1 div.sk-toggleable__content {max-height: 0;max-width: 0;overflow: hidden;text-align: left;background-color: #f0f8ff;}#sk-container-id-1 div.sk-toggleable__content pre {margin: 0.2em;color: black;border-radius: 0.25em;background-color: #f0f8ff;}#sk-container-id-1 input.sk-toggleable__control:checked~div.sk-toggleable__content {max-height: 200px;max-width: 100%;overflow: auto;}#sk-container-id-1 input.sk-toggleable__control:checked~label.sk-toggleable__label-arrow:before {content: \"▾\";}#sk-container-id-1 div.sk-estimator input.sk-toggleable__control:checked~label.sk-toggleable__label {background-color: #d4ebff;}#sk-container-id-1 div.sk-label input.sk-toggleable__control:checked~label.sk-toggleable__label {background-color: #d4ebff;}#sk-container-id-1 input.sk-hidden--visually {border: 0;clip: rect(1px 1px 1px 1px);clip: rect(1px, 1px, 1px, 1px);height: 1px;margin: -1px;overflow: hidden;padding: 0;position: absolute;width: 1px;}#sk-container-id-1 div.sk-estimator {font-family: monospace;background-color: #f0f8ff;border: 1px dotted black;border-radius: 0.25em;box-sizing: border-box;margin-bottom: 0.5em;}#sk-container-id-1 div.sk-estimator:hover {background-color: #d4ebff;}#sk-container-id-1 div.sk-parallel-item::after {content: \"\";width: 100%;border-bottom: 1px solid gray;flex-grow: 1;}#sk-container-id-1 div.sk-label:hover label.sk-toggleable__label {background-color: #d4ebff;}#sk-container-id-1 div.sk-serial::before {content: \"\";position: absolute;border-left: 1px solid gray;box-sizing: border-box;top: 0;bottom: 0;left: 50%;z-index: 0;}#sk-container-id-1 div.sk-serial {display: flex;flex-direction: column;align-items: center;background-color: white;padding-right: 0.2em;padding-left: 0.2em;position: relative;}#sk-container-id-1 div.sk-item {position: relative;z-index: 1;}#sk-container-id-1 div.sk-parallel {display: flex;align-items: stretch;justify-content: center;background-color: white;position: relative;}#sk-container-id-1 div.sk-item::before, #sk-container-id-1 div.sk-parallel-item::before {content: \"\";position: absolute;border-left: 1px solid gray;box-sizing: border-box;top: 0;bottom: 0;left: 50%;z-index: -1;}#sk-container-id-1 div.sk-parallel-item {display: flex;flex-direction: column;z-index: 1;position: relative;background-color: white;}#sk-container-id-1 div.sk-parallel-item:first-child::after {align-self: flex-end;width: 50%;}#sk-container-id-1 div.sk-parallel-item:last-child::after {align-self: flex-start;width: 50%;}#sk-container-id-1 div.sk-parallel-item:only-child::after {width: 0;}#sk-container-id-1 div.sk-dashed-wrapped {border: 1px dashed gray;margin: 0 0.4em 0.5em 0.4em;box-sizing: border-box;padding-bottom: 0.4em;background-color: white;}#sk-container-id-1 div.sk-label label {font-family: monospace;font-weight: bold;display: inline-block;line-height: 1.2em;}#sk-container-id-1 div.sk-label-container {text-align: center;}#sk-container-id-1 div.sk-container {/* jupyter's `normalize.less` sets `[hidden] { display: none; }` but bootstrap.min.css set `[hidden] { display: none !important; }` so we also need the `!important` here to be able to override the default hidden behavior on the sphinx rendered scikit-learn.org. See: https://github.com/scikit-learn/scikit-learn/issues/21755 */display: inline-block !important;position: relative;}#sk-container-id-1 div.sk-text-repr-fallback {display: none;}</style><div id=\"sk-container-id-1\" class=\"sk-top-container\"><div class=\"sk-text-repr-fallback\"><pre>KNeighborsRegressor()</pre><b>In a Jupyter environment, please rerun this cell to show the HTML representation or trust the notebook. <br />On GitHub, the HTML representation is unable to render, please try loading this page with nbviewer.org.</b></div><div class=\"sk-container\" hidden><div class=\"sk-item\"><div class=\"sk-estimator sk-toggleable\"><input class=\"sk-toggleable__control sk-hidden--visually\" id=\"sk-estimator-id-1\" type=\"checkbox\" checked><label for=\"sk-estimator-id-1\" class=\"sk-toggleable__label sk-toggleable__label-arrow\">KNeighborsRegressor</label><div class=\"sk-toggleable__content\"><pre>KNeighborsRegressor()</pre></div></div></div></div></div>"
            ]
          },
          "metadata": {},
          "execution_count": 20
        }
      ]
    },
    {
      "cell_type": "code",
      "source": [
        "pred = model.predict(X_test)"
      ],
      "metadata": {
        "id": "vUfyXhydSfVc"
      },
      "execution_count": 21,
      "outputs": []
    },
    {
      "cell_type": "code",
      "source": [
        "from sklearn.metrics import r2_score\n",
        "\n",
        "r2_score(y_test, pred)"
      ],
      "metadata": {
        "colab": {
          "base_uri": "https://localhost:8080/"
        },
        "id": "2CnrUH-8Si57",
        "outputId": "922c686e-abda-488d-ce66-8c09317920ff"
      },
      "execution_count": 22,
      "outputs": [
        {
          "output_type": "execute_result",
          "data": {
            "text/plain": [
              "0.6561643936728923"
            ]
          },
          "metadata": {},
          "execution_count": 22
        }
      ]
    },
    {
      "cell_type": "code",
      "source": [
        "from sklearn.naive_bayes import MultinomialNB"
      ],
      "metadata": {
        "id": "1CErBPljSkhK"
      },
      "execution_count": 23,
      "outputs": []
    },
    {
      "cell_type": "code",
      "source": [
        "nb_model = MultinomialNB()"
      ],
      "metadata": {
        "id": "4Iftx7bsSmNp"
      },
      "execution_count": 24,
      "outputs": []
    },
    {
      "cell_type": "code",
      "source": [
        "titanic_data = pd.read_csv('/content/drive/MyDrive/datas/train.csv')"
      ],
      "metadata": {
        "id": "zpwWBOkbS5rr"
      },
      "execution_count": 25,
      "outputs": []
    },
    {
      "cell_type": "code",
      "source": [
        "titanic_data.isna().sum()"
      ],
      "metadata": {
        "colab": {
          "base_uri": "https://localhost:8080/"
        },
        "id": "EUiXCDDYWwGB",
        "outputId": "411bde97-77b4-4744-c98e-14a1c3e2099b"
      },
      "execution_count": 33,
      "outputs": [
        {
          "output_type": "execute_result",
          "data": {
            "text/plain": [
              "PassengerId    0\n",
              "Survived       0\n",
              "Pclass         0\n",
              "Name           0\n",
              "Sex            0\n",
              "Age            0\n",
              "SibSp          0\n",
              "Parch          0\n",
              "Ticket         0\n",
              "Fare           0\n",
              "Cabin          0\n",
              "Embarked       0\n",
              "dtype: int64"
            ]
          },
          "metadata": {},
          "execution_count": 33
        }
      ]
    },
    {
      "cell_type": "code",
      "source": [
        "titanic_data.drop('Cabin', axis=1, inplace=True)"
      ],
      "metadata": {
        "id": "wzxpU2PZW1FY"
      },
      "execution_count": 34,
      "outputs": []
    },
    {
      "cell_type": "code",
      "source": [
        "titanic_data.dropna(inplace=True)"
      ],
      "metadata": {
        "id": "ODKvWFExS7P5"
      },
      "execution_count": 35,
      "outputs": []
    },
    {
      "cell_type": "code",
      "source": [
        "titanic_data.info()"
      ],
      "metadata": {
        "colab": {
          "base_uri": "https://localhost:8080/"
        },
        "id": "drW1CAnNS9Tt",
        "outputId": "d509dd2f-1570-470c-c424-46328140fc70"
      },
      "execution_count": 36,
      "outputs": [
        {
          "output_type": "stream",
          "name": "stdout",
          "text": [
            "<class 'pandas.core.frame.DataFrame'>\n",
            "Int64Index: 183 entries, 1 to 889\n",
            "Data columns (total 11 columns):\n",
            " #   Column       Non-Null Count  Dtype  \n",
            "---  ------       --------------  -----  \n",
            " 0   PassengerId  183 non-null    int64  \n",
            " 1   Survived     183 non-null    int64  \n",
            " 2   Pclass       183 non-null    int64  \n",
            " 3   Name         183 non-null    object \n",
            " 4   Sex          183 non-null    object \n",
            " 5   Age          183 non-null    float64\n",
            " 6   SibSp        183 non-null    int64  \n",
            " 7   Parch        183 non-null    int64  \n",
            " 8   Ticket       183 non-null    object \n",
            " 9   Fare         183 non-null    float64\n",
            " 10  Embarked     183 non-null    object \n",
            "dtypes: float64(2), int64(5), object(4)\n",
            "memory usage: 17.2+ KB\n"
          ]
        }
      ]
    },
    {
      "cell_type": "code",
      "source": [
        "titanic_data.columns"
      ],
      "metadata": {
        "colab": {
          "base_uri": "https://localhost:8080/"
        },
        "id": "tJZeE88BS-5X",
        "outputId": "84ea716a-c986-40e2-8f7a-e0f56fcd146c"
      },
      "execution_count": 28,
      "outputs": [
        {
          "output_type": "execute_result",
          "data": {
            "text/plain": [
              "Index(['PassengerId', 'Survived', 'Pclass', 'Name', 'Sex', 'Age', 'SibSp',\n",
              "       'Parch', 'Ticket', 'Fare', 'Cabin', 'Embarked'],\n",
              "      dtype='object')"
            ]
          },
          "metadata": {},
          "execution_count": 28
        }
      ]
    },
    {
      "cell_type": "code",
      "source": [
        "target_data = titanic_data[['PassengerId', 'Survived', 'Pclass','Age', 'SibSp', 'Parch']]"
      ],
      "metadata": {
        "id": "XaLIm1yJTAjf"
      },
      "execution_count": 30,
      "outputs": []
    },
    {
      "cell_type": "code",
      "source": [
        "y = target_data.pop('Survived')\n",
        "X = target_data"
      ],
      "metadata": {
        "id": "aA-0n8RJTCa6"
      },
      "execution_count": 31,
      "outputs": []
    },
    {
      "cell_type": "code",
      "source": [
        "y.value_counts()"
      ],
      "metadata": {
        "colab": {
          "base_uri": "https://localhost:8080/"
        },
        "id": "aODTAtbQWiOG",
        "outputId": "81be4061-1f5b-4c73-be53-1a2800880ab1"
      },
      "execution_count": 32,
      "outputs": [
        {
          "output_type": "execute_result",
          "data": {
            "text/plain": [
              "1    123\n",
              "0     60\n",
              "Name: Survived, dtype: int64"
            ]
          },
          "metadata": {},
          "execution_count": 32
        }
      ]
    },
    {
      "cell_type": "code",
      "source": [
        "X_train, X_test, y_train, y_test = train_test_split(X, y, test_size=0.2, stratify=y)"
      ],
      "metadata": {
        "id": "CO3g9OPsWjwx"
      },
      "execution_count": 37,
      "outputs": []
    },
    {
      "cell_type": "code",
      "source": [
        "y_train.value_counts()"
      ],
      "metadata": {
        "colab": {
          "base_uri": "https://localhost:8080/"
        },
        "id": "V5YX7luqXArv",
        "outputId": "3f2a84b9-7c78-4ce4-efb6-317479e325c4"
      },
      "execution_count": 38,
      "outputs": [
        {
          "output_type": "execute_result",
          "data": {
            "text/plain": [
              "1    98\n",
              "0    48\n",
              "Name: Survived, dtype: int64"
            ]
          },
          "metadata": {},
          "execution_count": 38
        }
      ]
    },
    {
      "cell_type": "code",
      "source": [
        "nb_model.fit(X_train, y_train)"
      ],
      "metadata": {
        "colab": {
          "base_uri": "https://localhost:8080/",
          "height": 75
        },
        "id": "qWZ9-mfKXCZk",
        "outputId": "b5edf5fa-bec1-46c5-bc5e-3eb43a74b5c0"
      },
      "execution_count": 39,
      "outputs": [
        {
          "output_type": "execute_result",
          "data": {
            "text/plain": [
              "MultinomialNB()"
            ],
            "text/html": [
              "<style>#sk-container-id-2 {color: black;background-color: white;}#sk-container-id-2 pre{padding: 0;}#sk-container-id-2 div.sk-toggleable {background-color: white;}#sk-container-id-2 label.sk-toggleable__label {cursor: pointer;display: block;width: 100%;margin-bottom: 0;padding: 0.3em;box-sizing: border-box;text-align: center;}#sk-container-id-2 label.sk-toggleable__label-arrow:before {content: \"▸\";float: left;margin-right: 0.25em;color: #696969;}#sk-container-id-2 label.sk-toggleable__label-arrow:hover:before {color: black;}#sk-container-id-2 div.sk-estimator:hover label.sk-toggleable__label-arrow:before {color: black;}#sk-container-id-2 div.sk-toggleable__content {max-height: 0;max-width: 0;overflow: hidden;text-align: left;background-color: #f0f8ff;}#sk-container-id-2 div.sk-toggleable__content pre {margin: 0.2em;color: black;border-radius: 0.25em;background-color: #f0f8ff;}#sk-container-id-2 input.sk-toggleable__control:checked~div.sk-toggleable__content {max-height: 200px;max-width: 100%;overflow: auto;}#sk-container-id-2 input.sk-toggleable__control:checked~label.sk-toggleable__label-arrow:before {content: \"▾\";}#sk-container-id-2 div.sk-estimator input.sk-toggleable__control:checked~label.sk-toggleable__label {background-color: #d4ebff;}#sk-container-id-2 div.sk-label input.sk-toggleable__control:checked~label.sk-toggleable__label {background-color: #d4ebff;}#sk-container-id-2 input.sk-hidden--visually {border: 0;clip: rect(1px 1px 1px 1px);clip: rect(1px, 1px, 1px, 1px);height: 1px;margin: -1px;overflow: hidden;padding: 0;position: absolute;width: 1px;}#sk-container-id-2 div.sk-estimator {font-family: monospace;background-color: #f0f8ff;border: 1px dotted black;border-radius: 0.25em;box-sizing: border-box;margin-bottom: 0.5em;}#sk-container-id-2 div.sk-estimator:hover {background-color: #d4ebff;}#sk-container-id-2 div.sk-parallel-item::after {content: \"\";width: 100%;border-bottom: 1px solid gray;flex-grow: 1;}#sk-container-id-2 div.sk-label:hover label.sk-toggleable__label {background-color: #d4ebff;}#sk-container-id-2 div.sk-serial::before {content: \"\";position: absolute;border-left: 1px solid gray;box-sizing: border-box;top: 0;bottom: 0;left: 50%;z-index: 0;}#sk-container-id-2 div.sk-serial {display: flex;flex-direction: column;align-items: center;background-color: white;padding-right: 0.2em;padding-left: 0.2em;position: relative;}#sk-container-id-2 div.sk-item {position: relative;z-index: 1;}#sk-container-id-2 div.sk-parallel {display: flex;align-items: stretch;justify-content: center;background-color: white;position: relative;}#sk-container-id-2 div.sk-item::before, #sk-container-id-2 div.sk-parallel-item::before {content: \"\";position: absolute;border-left: 1px solid gray;box-sizing: border-box;top: 0;bottom: 0;left: 50%;z-index: -1;}#sk-container-id-2 div.sk-parallel-item {display: flex;flex-direction: column;z-index: 1;position: relative;background-color: white;}#sk-container-id-2 div.sk-parallel-item:first-child::after {align-self: flex-end;width: 50%;}#sk-container-id-2 div.sk-parallel-item:last-child::after {align-self: flex-start;width: 50%;}#sk-container-id-2 div.sk-parallel-item:only-child::after {width: 0;}#sk-container-id-2 div.sk-dashed-wrapped {border: 1px dashed gray;margin: 0 0.4em 0.5em 0.4em;box-sizing: border-box;padding-bottom: 0.4em;background-color: white;}#sk-container-id-2 div.sk-label label {font-family: monospace;font-weight: bold;display: inline-block;line-height: 1.2em;}#sk-container-id-2 div.sk-label-container {text-align: center;}#sk-container-id-2 div.sk-container {/* jupyter's `normalize.less` sets `[hidden] { display: none; }` but bootstrap.min.css set `[hidden] { display: none !important; }` so we also need the `!important` here to be able to override the default hidden behavior on the sphinx rendered scikit-learn.org. See: https://github.com/scikit-learn/scikit-learn/issues/21755 */display: inline-block !important;position: relative;}#sk-container-id-2 div.sk-text-repr-fallback {display: none;}</style><div id=\"sk-container-id-2\" class=\"sk-top-container\"><div class=\"sk-text-repr-fallback\"><pre>MultinomialNB()</pre><b>In a Jupyter environment, please rerun this cell to show the HTML representation or trust the notebook. <br />On GitHub, the HTML representation is unable to render, please try loading this page with nbviewer.org.</b></div><div class=\"sk-container\" hidden><div class=\"sk-item\"><div class=\"sk-estimator sk-toggleable\"><input class=\"sk-toggleable__control sk-hidden--visually\" id=\"sk-estimator-id-2\" type=\"checkbox\" checked><label for=\"sk-estimator-id-2\" class=\"sk-toggleable__label sk-toggleable__label-arrow\">MultinomialNB</label><div class=\"sk-toggleable__content\"><pre>MultinomialNB()</pre></div></div></div></div></div>"
            ]
          },
          "metadata": {},
          "execution_count": 39
        }
      ]
    },
    {
      "cell_type": "code",
      "source": [
        "pred = nb_model.predict(X_test)"
      ],
      "metadata": {
        "id": "5WG-k7PGXHSD"
      },
      "execution_count": 40,
      "outputs": []
    },
    {
      "cell_type": "code",
      "source": [
        "from sklearn.metrics import f1_score\n",
        "f1_score(y_test, pred)"
      ],
      "metadata": {
        "colab": {
          "base_uri": "https://localhost:8080/"
        },
        "id": "uuNA40yTXIsi",
        "outputId": "d73cf5ef-db86-4fdd-9849-6d8782bdc596"
      },
      "execution_count": 41,
      "outputs": [
        {
          "output_type": "execute_result",
          "data": {
            "text/plain": [
              "0.6666666666666665"
            ]
          },
          "metadata": {},
          "execution_count": 41
        }
      ]
    },
    {
      "cell_type": "code",
      "source": [
        "from sklearn.metrics import accuracy_score\n",
        "accuracy_score(y_test, pred)"
      ],
      "metadata": {
        "colab": {
          "base_uri": "https://localhost:8080/"
        },
        "id": "9XlLgurrXKNx",
        "outputId": "e31beb9f-9ea9-466b-cdab-3b986bc24e21"
      },
      "execution_count": 42,
      "outputs": [
        {
          "output_type": "execute_result",
          "data": {
            "text/plain": [
              "0.5945945945945946"
            ]
          },
          "metadata": {},
          "execution_count": 42
        }
      ]
    },
    {
      "cell_type": "markdown",
      "source": [
        "# DeepLearning의 느낌"
      ],
      "metadata": {
        "id": "6AN-4fujYCHF"
      }
    },
    {
      "cell_type": "code",
      "source": [
        "# 데이터 로딩\n",
        "# 전처리\n",
        "# X, y\n",
        "# train_test_split"
      ],
      "metadata": {
        "id": "Pw36XcsVdNt1"
      },
      "execution_count": 43,
      "outputs": []
    },
    {
      "cell_type": "code",
      "source": [
        "Epochs =100\n",
        "# ai model : class\n",
        "\n",
        "for epoch in range(Epochs):\n",
        "  print(epoch,\"째 예측\")\n",
        "  print(epoch,\"째 학습\")  \n",
        "\n",
        "# 평가\n"
      ],
      "metadata": {
        "colab": {
          "base_uri": "https://localhost:8080/"
        },
        "id": "aGiJUczbdPnh",
        "outputId": "117884d6-385f-4fc6-adbe-0387d83230b3"
      },
      "execution_count": 44,
      "outputs": [
        {
          "output_type": "stream",
          "name": "stdout",
          "text": [
            "0 째 예측\n",
            "0 째 학습\n",
            "1 째 예측\n",
            "1 째 학습\n",
            "2 째 예측\n",
            "2 째 학습\n",
            "3 째 예측\n",
            "3 째 학습\n",
            "4 째 예측\n",
            "4 째 학습\n",
            "5 째 예측\n",
            "5 째 학습\n",
            "6 째 예측\n",
            "6 째 학습\n",
            "7 째 예측\n",
            "7 째 학습\n",
            "8 째 예측\n",
            "8 째 학습\n",
            "9 째 예측\n",
            "9 째 학습\n",
            "10 째 예측\n",
            "10 째 학습\n",
            "11 째 예측\n",
            "11 째 학습\n",
            "12 째 예측\n",
            "12 째 학습\n",
            "13 째 예측\n",
            "13 째 학습\n",
            "14 째 예측\n",
            "14 째 학습\n",
            "15 째 예측\n",
            "15 째 학습\n",
            "16 째 예측\n",
            "16 째 학습\n",
            "17 째 예측\n",
            "17 째 학습\n",
            "18 째 예측\n",
            "18 째 학습\n",
            "19 째 예측\n",
            "19 째 학습\n",
            "20 째 예측\n",
            "20 째 학습\n",
            "21 째 예측\n",
            "21 째 학습\n",
            "22 째 예측\n",
            "22 째 학습\n",
            "23 째 예측\n",
            "23 째 학습\n",
            "24 째 예측\n",
            "24 째 학습\n",
            "25 째 예측\n",
            "25 째 학습\n",
            "26 째 예측\n",
            "26 째 학습\n",
            "27 째 예측\n",
            "27 째 학습\n",
            "28 째 예측\n",
            "28 째 학습\n",
            "29 째 예측\n",
            "29 째 학습\n",
            "30 째 예측\n",
            "30 째 학습\n",
            "31 째 예측\n",
            "31 째 학습\n",
            "32 째 예측\n",
            "32 째 학습\n",
            "33 째 예측\n",
            "33 째 학습\n",
            "34 째 예측\n",
            "34 째 학습\n",
            "35 째 예측\n",
            "35 째 학습\n",
            "36 째 예측\n",
            "36 째 학습\n",
            "37 째 예측\n",
            "37 째 학습\n",
            "38 째 예측\n",
            "38 째 학습\n",
            "39 째 예측\n",
            "39 째 학습\n",
            "40 째 예측\n",
            "40 째 학습\n",
            "41 째 예측\n",
            "41 째 학습\n",
            "42 째 예측\n",
            "42 째 학습\n",
            "43 째 예측\n",
            "43 째 학습\n",
            "44 째 예측\n",
            "44 째 학습\n",
            "45 째 예측\n",
            "45 째 학습\n",
            "46 째 예측\n",
            "46 째 학습\n",
            "47 째 예측\n",
            "47 째 학습\n",
            "48 째 예측\n",
            "48 째 학습\n",
            "49 째 예측\n",
            "49 째 학습\n",
            "50 째 예측\n",
            "50 째 학습\n",
            "51 째 예측\n",
            "51 째 학습\n",
            "52 째 예측\n",
            "52 째 학습\n",
            "53 째 예측\n",
            "53 째 학습\n",
            "54 째 예측\n",
            "54 째 학습\n",
            "55 째 예측\n",
            "55 째 학습\n",
            "56 째 예측\n",
            "56 째 학습\n",
            "57 째 예측\n",
            "57 째 학습\n",
            "58 째 예측\n",
            "58 째 학습\n",
            "59 째 예측\n",
            "59 째 학습\n",
            "60 째 예측\n",
            "60 째 학습\n",
            "61 째 예측\n",
            "61 째 학습\n",
            "62 째 예측\n",
            "62 째 학습\n",
            "63 째 예측\n",
            "63 째 학습\n",
            "64 째 예측\n",
            "64 째 학습\n",
            "65 째 예측\n",
            "65 째 학습\n",
            "66 째 예측\n",
            "66 째 학습\n",
            "67 째 예측\n",
            "67 째 학습\n",
            "68 째 예측\n",
            "68 째 학습\n",
            "69 째 예측\n",
            "69 째 학습\n",
            "70 째 예측\n",
            "70 째 학습\n",
            "71 째 예측\n",
            "71 째 학습\n",
            "72 째 예측\n",
            "72 째 학습\n",
            "73 째 예측\n",
            "73 째 학습\n",
            "74 째 예측\n",
            "74 째 학습\n",
            "75 째 예측\n",
            "75 째 학습\n",
            "76 째 예측\n",
            "76 째 학습\n",
            "77 째 예측\n",
            "77 째 학습\n",
            "78 째 예측\n",
            "78 째 학습\n",
            "79 째 예측\n",
            "79 째 학습\n",
            "80 째 예측\n",
            "80 째 학습\n",
            "81 째 예측\n",
            "81 째 학습\n",
            "82 째 예측\n",
            "82 째 학습\n",
            "83 째 예측\n",
            "83 째 학습\n",
            "84 째 예측\n",
            "84 째 학습\n",
            "85 째 예측\n",
            "85 째 학습\n",
            "86 째 예측\n",
            "86 째 학습\n",
            "87 째 예측\n",
            "87 째 학습\n",
            "88 째 예측\n",
            "88 째 학습\n",
            "89 째 예측\n",
            "89 째 학습\n",
            "90 째 예측\n",
            "90 째 학습\n",
            "91 째 예측\n",
            "91 째 학습\n",
            "92 째 예측\n",
            "92 째 학습\n",
            "93 째 예측\n",
            "93 째 학습\n",
            "94 째 예측\n",
            "94 째 학습\n",
            "95 째 예측\n",
            "95 째 학습\n",
            "96 째 예측\n",
            "96 째 학습\n",
            "97 째 예측\n",
            "97 째 학습\n",
            "98 째 예측\n",
            "98 째 학습\n",
            "99 째 예측\n",
            "99 째 학습\n"
          ]
        }
      ]
    },
    {
      "cell_type": "code",
      "source": [],
      "metadata": {
        "id": "X7xYi6AbdRM-"
      },
      "execution_count": null,
      "outputs": []
    }
  ]
}