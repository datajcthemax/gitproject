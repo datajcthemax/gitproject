{
  "nbformat": 4,
  "nbformat_minor": 0,
  "metadata": {
    "colab": {
      "provenance": [],
      "authorship_tag": "ABX9TyNzNqeLJpAegaEqMtG9CsVT",
      "include_colab_link": true
    },
    "kernelspec": {
      "name": "python3",
      "display_name": "Python 3"
    },
    "language_info": {
      "name": "python"
    }
  },
  "cells": [
    {
      "cell_type": "markdown",
      "metadata": {
        "id": "view-in-github",
        "colab_type": "text"
      },
      "source": [
        "<a href=\"https://colab.research.google.com/github/datajcthemax/gitproject/blob/main/day19.ipynb\" target=\"_parent\"><img src=\"https://colab.research.google.com/assets/colab-badge.svg\" alt=\"Open In Colab\"/></a>"
      ]
    },
    {
      "cell_type": "markdown",
      "source": [
        "# 19번째 이야기 - KNN과 나이브 베이즈\n",
        "- 지도학습 / 비지도학습\n",
        "- KNN과 나이브 베이즈\n",
        "- 깃 ml 팀플"
      ],
      "metadata": {
        "id": "FKmNurLr4y7o"
      }
    }
  ]
}